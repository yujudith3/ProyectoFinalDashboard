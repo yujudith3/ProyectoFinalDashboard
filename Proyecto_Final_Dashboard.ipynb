{
  "nbformat": 4,
  "nbformat_minor": 0,
  "metadata": {
    "colab": {
      "provenance": [],
      "authorship_tag": "ABX9TyNZHQgM5i7UWZQN0dMRy1et",
      "include_colab_link": true
    },
    "kernelspec": {
      "name": "python3",
      "display_name": "Python 3"
    },
    "language_info": {
      "name": "python"
    }
  },
  "cells": [
    {
      "cell_type": "markdown",
      "metadata": {
        "id": "view-in-github",
        "colab_type": "text"
      },
      "source": [
        "<a href=\"https://colab.research.google.com/github/yujudith3/ProyectoFinalDashboard/blob/main/Proyecto_Final_Dashboard.ipynb\" target=\"_parent\"><img src=\"https://colab.research.google.com/assets/colab-badge.svg\" alt=\"Open In Colab\"/></a>"
      ]
    },
    {
      "cell_type": "markdown",
      "source": [
        "# Proyecto Final Dashboard"
      ],
      "metadata": {
        "id": "Ef7YZNoq-rk_"
      }
    },
    {
      "cell_type": "markdown",
      "source": [
        "Judith Guadalupe Navarro Flores\n",
        "judith.navarro4332@alumnos.udg.mx\n",
        "\n",
        "Marco Antonio Hernandez\n",
        "marco.hpreciado@alumnos.udg.mx"
      ],
      "metadata": {
        "id": "s5rUhAgL-zHO"
      }
    },
    {
      "cell_type": "code",
      "source": [],
      "metadata": {
        "id": "FQWq82Ui-pYT"
      },
      "execution_count": null,
      "outputs": []
    }
  ]
}